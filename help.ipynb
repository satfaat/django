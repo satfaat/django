{
 "metadata": {
  "language_info": {
   "codemirror_mode": {
    "name": "ipython",
    "version": 3
   },
   "file_extension": ".py",
   "mimetype": "text/x-python",
   "name": "python",
   "nbconvert_exporter": "python",
   "pygments_lexer": "ipython3",
   "version": "3.8.5-final"
  },
  "orig_nbformat": 2,
  "kernelspec": {
   "name": "python38532bitvenvvenvb4f5fd8e458c4667a7875397e100a63b",
   "display_name": "Python 3.8.5 32-bit ('venv': venv)"
  }
 },
 "nbformat": 4,
 "nbformat_minor": 2,
 "cells": [
  {
   "cell_type": "code",
   "execution_count": 10,
   "metadata": {
    "tags": []
   },
   "outputs": [
    {
     "output_type": "stream",
     "name": "stdout",
     "text": "[{'name': 'Бесплатно', 'price': '0', 'options': {'users': 10, 'space': 10, 'support': 'Почтовая рассылка'}}, {'name': 'Профессиональный', 'price': '49', 'options': {'users': 50, 'space': 100, 'support': 'Телефон и email'}}, {'name': 'Корпоративный', 'price': '99', 'options': {'users': 100, 'space': 500, 'support': 'Персональный менеджер'}}]\n=====\n{'name': 'Бесплатно', 'price': '0', 'options': {'users': 10, 'space': 10, 'support': 'Почтовая рассылка'}}\n=====\nБесплатно\n0\nПочтовая рассылка\nПрофессиональный\n49\nТелефон и email\nКорпоративный\n99\nПерсональный менеджер\n"
    }
   ],
   "source": [
    "plans = [\n",
    "        {\n",
    "            \"name\": \"Бесплатно\",\n",
    "            \"price\": \"0\",\n",
    "            \"options\": {\"users\": 10, \"space\": 10, \"support\": \"Почтовая рассылка\"},\n",
    "        },\n",
    "        {\n",
    "            \"name\": \"Профессиональный\",\n",
    "            \"price\": \"49\",\n",
    "            \"options\": {\"users\": 50, \"space\": 100, \"support\": \"Телефон и email\"},\n",
    "        },\n",
    "        {\n",
    "            \"name\": \"Корпоративный\",\n",
    "            \"price\": \"99\",\n",
    "            \"options\": {\"users\": 100, \"space\": 500, \"support\": \"Персональный менеджер\"},\n",
    "        },\n",
    "    ]\n",
    "print(plans)\n",
    "print('=====')\n",
    "print(plans[0])\n",
    "print('=====')\n",
    "\n",
    "for plan in plans:\n",
    "    print(plan['name'])\n",
    "    print(plan['price'])\n",
    "    print(plan['options']['support'])"
   ]
  },
  {
   "cell_type": "code",
   "execution_count": 12,
   "metadata": {
    "tags": []
   },
   "outputs": [
    {
     "output_type": "stream",
     "name": "stdout",
     "text": "dict_values([195, 50])\n"
    }
   ],
   "source": [
    "d = {\n",
    "    'us':195,\n",
    "    'ru':50\n",
    "}\n",
    "for key, value in dict.items():\n",
    "#for key, value in plans.plans\n",
    "    pass\n",
    "for keyvalue in dict.items():\n",
    "    key, value = keyvalue[0], keyvalue[1]\n",
    "\n",
    "print (d.values())"
   ]
  },
  {
   "cell_type": "code",
   "execution_count": null,
   "metadata": {},
   "outputs": [],
   "source": []
  }
 ]
}